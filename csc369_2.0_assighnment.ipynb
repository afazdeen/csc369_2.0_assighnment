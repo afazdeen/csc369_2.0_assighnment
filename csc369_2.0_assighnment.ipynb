{
 "cells": [
  {
   "cell_type": "markdown",
   "metadata": {},
   "source": [
    "# Importing and Fixing Data"
   ]
  },
  {
   "cell_type": "code",
   "execution_count": 89,
   "metadata": {},
   "outputs": [],
   "source": [
    "#Imports\n",
    "import numpy as np  \n",
    "import matplotlib.pyplot as plt  \n",
    "import pandas as pd"
   ]
  },
  {
   "cell_type": "code",
   "execution_count": 90,
   "metadata": {},
   "outputs": [],
   "source": [
    "#naming coloumns\n",
    "names = ['age', 'workclass', 'education', 'education-num', 'marital-status', 'occupation', 'relationship', 'race', 'sex', 'capital-gain', 'capital-loss', 'hours-per-week', 'native-country', 'income']\n",
    "\n",
    "#importing dataset\n",
    "data = pd.read_csv(\"Adult_Census_Income_Binary_Classification_dataset.csv\", names=names)"
   ]
  },
  {
   "cell_type": "code",
   "execution_count": 91,
   "metadata": {},
   "outputs": [],
   "source": [
    "#appending\n",
    "coloumns = []\n",
    "for i in [1,2,4,5,6,7,8,12,13]:\n",
    "    coloumns.append(data.columns[i])"
   ]
  },
  {
   "cell_type": "code",
   "execution_count": 92,
   "metadata": {},
   "outputs": [],
   "source": [
    "#handling the missing data\n",
    "data = data.replace(\" ?\", pd.NaT)\n",
    "data = data.drop(0)\n",
    "data.dropna(inplace=True)"
   ]
  },
  {
   "cell_type": "code",
   "execution_count": 93,
   "metadata": {},
   "outputs": [],
   "source": [
    "for i in coloumns:\n",
    "    data[i] = data[i].astype('category')"
   ]
  },
  {
   "cell_type": "code",
   "execution_count": 94,
   "metadata": {},
   "outputs": [],
   "source": [
    "for i in coloumns:\n",
    "    data[i] = pd.Categorical(data[i]).codes"
   ]
  },
  {
   "cell_type": "code",
   "execution_count": 95,
   "metadata": {},
   "outputs": [
    {
     "data": {
      "text/html": [
       "<div>\n",
       "<style scoped>\n",
       "    .dataframe tbody tr th:only-of-type {\n",
       "        vertical-align: middle;\n",
       "    }\n",
       "\n",
       "    .dataframe tbody tr th {\n",
       "        vertical-align: top;\n",
       "    }\n",
       "\n",
       "    .dataframe thead th {\n",
       "        text-align: right;\n",
       "    }\n",
       "</style>\n",
       "<table border=\"1\" class=\"dataframe\">\n",
       "  <thead>\n",
       "    <tr style=\"text-align: right;\">\n",
       "      <th></th>\n",
       "      <th>age</th>\n",
       "      <th>workclass</th>\n",
       "      <th>education</th>\n",
       "      <th>education-num</th>\n",
       "      <th>marital-status</th>\n",
       "      <th>occupation</th>\n",
       "      <th>relationship</th>\n",
       "      <th>race</th>\n",
       "      <th>sex</th>\n",
       "      <th>capital-gain</th>\n",
       "      <th>capital-loss</th>\n",
       "      <th>hours-per-week</th>\n",
       "      <th>native-country</th>\n",
       "      <th>income</th>\n",
       "    </tr>\n",
       "  </thead>\n",
       "  <tbody>\n",
       "    <tr>\n",
       "      <th>1</th>\n",
       "      <td>39</td>\n",
       "      <td>5</td>\n",
       "      <td>9</td>\n",
       "      <td>13</td>\n",
       "      <td>4</td>\n",
       "      <td>0</td>\n",
       "      <td>1</td>\n",
       "      <td>4</td>\n",
       "      <td>1</td>\n",
       "      <td>2174</td>\n",
       "      <td>0</td>\n",
       "      <td>40</td>\n",
       "      <td>38</td>\n",
       "      <td>0</td>\n",
       "    </tr>\n",
       "    <tr>\n",
       "      <th>2</th>\n",
       "      <td>50</td>\n",
       "      <td>4</td>\n",
       "      <td>9</td>\n",
       "      <td>13</td>\n",
       "      <td>2</td>\n",
       "      <td>3</td>\n",
       "      <td>0</td>\n",
       "      <td>4</td>\n",
       "      <td>1</td>\n",
       "      <td>0</td>\n",
       "      <td>0</td>\n",
       "      <td>13</td>\n",
       "      <td>38</td>\n",
       "      <td>0</td>\n",
       "    </tr>\n",
       "    <tr>\n",
       "      <th>3</th>\n",
       "      <td>38</td>\n",
       "      <td>2</td>\n",
       "      <td>11</td>\n",
       "      <td>9</td>\n",
       "      <td>0</td>\n",
       "      <td>5</td>\n",
       "      <td>1</td>\n",
       "      <td>4</td>\n",
       "      <td>1</td>\n",
       "      <td>0</td>\n",
       "      <td>0</td>\n",
       "      <td>40</td>\n",
       "      <td>38</td>\n",
       "      <td>0</td>\n",
       "    </tr>\n",
       "    <tr>\n",
       "      <th>4</th>\n",
       "      <td>53</td>\n",
       "      <td>2</td>\n",
       "      <td>1</td>\n",
       "      <td>7</td>\n",
       "      <td>2</td>\n",
       "      <td>5</td>\n",
       "      <td>0</td>\n",
       "      <td>2</td>\n",
       "      <td>1</td>\n",
       "      <td>0</td>\n",
       "      <td>0</td>\n",
       "      <td>40</td>\n",
       "      <td>38</td>\n",
       "      <td>0</td>\n",
       "    </tr>\n",
       "    <tr>\n",
       "      <th>5</th>\n",
       "      <td>28</td>\n",
       "      <td>2</td>\n",
       "      <td>9</td>\n",
       "      <td>13</td>\n",
       "      <td>2</td>\n",
       "      <td>9</td>\n",
       "      <td>5</td>\n",
       "      <td>2</td>\n",
       "      <td>0</td>\n",
       "      <td>0</td>\n",
       "      <td>0</td>\n",
       "      <td>40</td>\n",
       "      <td>4</td>\n",
       "      <td>0</td>\n",
       "    </tr>\n",
       "  </tbody>\n",
       "</table>\n",
       "</div>"
      ],
      "text/plain": [
       "  age  workclass  education education-num  marital-status  occupation  \\\n",
       "1  39          5          9            13               4           0   \n",
       "2  50          4          9            13               2           3   \n",
       "3  38          2         11             9               0           5   \n",
       "4  53          2          1             7               2           5   \n",
       "5  28          2          9            13               2           9   \n",
       "\n",
       "   relationship  race  sex capital-gain capital-loss hours-per-week  \\\n",
       "1             1     4    1         2174            0             40   \n",
       "2             0     4    1            0            0             13   \n",
       "3             1     4    1            0            0             40   \n",
       "4             0     2    1            0            0             40   \n",
       "5             5     2    0            0            0             40   \n",
       "\n",
       "   native-country  income  \n",
       "1              38       0  \n",
       "2              38       0  \n",
       "3              38       0  \n",
       "4              38       0  \n",
       "5               4       0  "
      ]
     },
     "execution_count": 95,
     "metadata": {},
     "output_type": "execute_result"
    }
   ],
   "source": [
    "#display first 5 rows\n",
    "data.head()"
   ]
  },
  {
   "cell_type": "code",
   "execution_count": 96,
   "metadata": {},
   "outputs": [
    {
     "data": {
      "text/plain": [
       "(30162, 14)"
      ]
     },
     "execution_count": 96,
     "metadata": {},
     "output_type": "execute_result"
    }
   ],
   "source": [
    "#no of items\n",
    "data.shape"
   ]
  },
  {
   "cell_type": "code",
   "execution_count": 97,
   "metadata": {},
   "outputs": [],
   "source": [
    "X = np.zeros((13, len(data)))"
   ]
  },
  {
   "cell_type": "code",
   "execution_count": 98,
   "metadata": {},
   "outputs": [],
   "source": [
    "for i in range(len(data.columns)-1):\n",
    "    X[i] = np.array(data[data.columns[i]])"
   ]
  },
  {
   "cell_type": "code",
   "execution_count": 99,
   "metadata": {},
   "outputs": [],
   "source": [
    "X = X.transpose()"
   ]
  },
  {
   "cell_type": "code",
   "execution_count": 100,
   "metadata": {},
   "outputs": [],
   "source": [
    "y = np.array(data[data.columns[13]])"
   ]
  },
  {
   "cell_type": "code",
   "execution_count": 101,
   "metadata": {},
   "outputs": [],
   "source": [
    "#train test split\n",
    "from sklearn.model_selection import train_test_split\n",
    "from sklearn import cross_validation\n",
    "X_train, X_test, y_train, y_test = cross_validation.train_test_split(X, y, test_size=0.20)  "
   ]
  },
  {
   "cell_type": "code",
   "execution_count": 102,
   "metadata": {},
   "outputs": [],
   "source": [
    "#feature scaling\n",
    "from sklearn.preprocessing import StandardScaler  \n",
    "scaler = StandardScaler()  \n",
    "scaler.fit(X_train)\n",
    "\n",
    "X_train = scaler.transform(X_train)  \n",
    "X_test = scaler.transform(X_test)  "
   ]
  },
  {
   "cell_type": "markdown",
   "metadata": {},
   "source": [
    "# K Nearest Neighbour"
   ]
  },
  {
   "cell_type": "code",
   "execution_count": 103,
   "metadata": {},
   "outputs": [],
   "source": [
    "#k nearest neighbour\n",
    "from sklearn.neighbors import KNeighborsClassifier\n",
    "kNear = KNeighborsClassifier()"
   ]
  },
  {
   "cell_type": "code",
   "execution_count": 104,
   "metadata": {},
   "outputs": [
    {
     "data": {
      "text/plain": [
       "KNeighborsClassifier(algorithm='auto', leaf_size=30, metric='minkowski',\n",
       "           metric_params=None, n_jobs=1, n_neighbors=5, p=2,\n",
       "           weights='uniform')"
      ]
     },
     "execution_count": 104,
     "metadata": {},
     "output_type": "execute_result"
    }
   ],
   "source": [
    "#fitting\n",
    "kNear.fit(X_train, y_train)"
   ]
  },
  {
   "cell_type": "code",
   "execution_count": 105,
   "metadata": {},
   "outputs": [
    {
     "data": {
      "text/plain": [
       "0.8229736449527598"
      ]
     },
     "execution_count": 105,
     "metadata": {},
     "output_type": "execute_result"
    }
   ],
   "source": [
    "#score\n",
    "kNear.score(X_test, y_test)"
   ]
  },
  {
   "cell_type": "code",
   "execution_count": 106,
   "metadata": {},
   "outputs": [
    {
     "data": {
      "text/plain": [
       "0.8229736449527598"
      ]
     },
     "execution_count": 106,
     "metadata": {},
     "output_type": "execute_result"
    }
   ],
   "source": [
    "#predicting\n",
    "from sklearn.metrics import accuracy_score\n",
    "prediction1 = kNear.predict(X_test)\n",
    "accuracy_score(prediction1, y_test)"
   ]
  },
  {
   "cell_type": "code",
   "execution_count": 107,
   "metadata": {},
   "outputs": [
    {
     "name": "stdout",
     "output_type": "stream",
     "text": [
      "[[4069  451]\n",
      " [ 617  896]]\n",
      "             precision    recall  f1-score   support\n",
      "\n",
      "          0       0.87      0.90      0.88      4520\n",
      "          1       0.67      0.59      0.63      1513\n",
      "\n",
      "avg / total       0.82      0.82      0.82      6033\n",
      "\n"
     ]
    }
   ],
   "source": [
    "#evaluation\n",
    "from sklearn.metrics import classification_report, confusion_matrix  \n",
    "print(confusion_matrix(y_test, prediction1))  \n",
    "print(classification_report(y_test, prediction1))  "
   ]
  },
  {
   "cell_type": "code",
   "execution_count": 108,
   "metadata": {},
   "outputs": [
    {
     "name": "stdout",
     "output_type": "stream",
     "text": [
      "[[3913  607]\n",
      " [ 641  872]]\n",
      "             precision    recall  f1-score   support\n",
      "\n",
      "          0       0.86      0.87      0.86      4520\n",
      "          1       0.59      0.58      0.58      1513\n",
      "\n",
      "avg / total       0.79      0.79      0.79      6033\n",
      "\n",
      "[[4264  256]\n",
      " [ 882  631]]\n",
      "             precision    recall  f1-score   support\n",
      "\n",
      "          0       0.83      0.94      0.88      4520\n",
      "          1       0.71      0.42      0.53      1513\n",
      "\n",
      "avg / total       0.80      0.81      0.79      6033\n",
      "\n",
      "[[4004  516]\n",
      " [ 631  882]]\n",
      "             precision    recall  f1-score   support\n",
      "\n",
      "          0       0.86      0.89      0.87      4520\n",
      "          1       0.63      0.58      0.61      1513\n",
      "\n",
      "avg / total       0.81      0.81      0.81      6033\n",
      "\n",
      "[[4226  294]\n",
      " [ 775  738]]\n",
      "             precision    recall  f1-score   support\n",
      "\n",
      "          0       0.85      0.93      0.89      4520\n",
      "          1       0.72      0.49      0.58      1513\n",
      "\n",
      "avg / total       0.81      0.82      0.81      6033\n",
      "\n",
      "[[4069  451]\n",
      " [ 617  896]]\n",
      "             precision    recall  f1-score   support\n",
      "\n",
      "          0       0.87      0.90      0.88      4520\n",
      "          1       0.67      0.59      0.63      1513\n",
      "\n",
      "avg / total       0.82      0.82      0.82      6033\n",
      "\n",
      "[[4184  336]\n",
      " [ 739  774]]\n",
      "             precision    recall  f1-score   support\n",
      "\n",
      "          0       0.85      0.93      0.89      4520\n",
      "          1       0.70      0.51      0.59      1513\n",
      "\n",
      "avg / total       0.81      0.82      0.81      6033\n",
      "\n",
      "[[4087  433]\n",
      " [ 610  903]]\n",
      "             precision    recall  f1-score   support\n",
      "\n",
      "          0       0.87      0.90      0.89      4520\n",
      "          1       0.68      0.60      0.63      1513\n",
      "\n",
      "avg / total       0.82      0.83      0.82      6033\n",
      "\n",
      "[[4181  339]\n",
      " [ 698  815]]\n",
      "             precision    recall  f1-score   support\n",
      "\n",
      "          0       0.86      0.93      0.89      4520\n",
      "          1       0.71      0.54      0.61      1513\n",
      "\n",
      "avg / total       0.82      0.83      0.82      6033\n",
      "\n",
      "[[4095  425]\n",
      " [ 609  904]]\n",
      "             precision    recall  f1-score   support\n",
      "\n",
      "          0       0.87      0.91      0.89      4520\n",
      "          1       0.68      0.60      0.64      1513\n",
      "\n",
      "avg / total       0.82      0.83      0.82      6033\n",
      "\n",
      "[[4170  350]\n",
      " [ 692  821]]\n",
      "             precision    recall  f1-score   support\n",
      "\n",
      "          0       0.86      0.92      0.89      4520\n",
      "          1       0.70      0.54      0.61      1513\n",
      "\n",
      "avg / total       0.82      0.83      0.82      6033\n",
      "\n",
      "[[4093  427]\n",
      " [ 601  912]]\n",
      "             precision    recall  f1-score   support\n",
      "\n",
      "          0       0.87      0.91      0.89      4520\n",
      "          1       0.68      0.60      0.64      1513\n",
      "\n",
      "avg / total       0.82      0.83      0.83      6033\n",
      "\n",
      "[[4163  357]\n",
      " [ 672  841]]\n",
      "             precision    recall  f1-score   support\n",
      "\n",
      "          0       0.86      0.92      0.89      4520\n",
      "          1       0.70      0.56      0.62      1513\n",
      "\n",
      "avg / total       0.82      0.83      0.82      6033\n",
      "\n",
      "[[4108  412]\n",
      " [ 609  904]]\n",
      "             precision    recall  f1-score   support\n",
      "\n",
      "          0       0.87      0.91      0.89      4520\n",
      "          1       0.69      0.60      0.64      1513\n",
      "\n",
      "avg / total       0.82      0.83      0.83      6033\n",
      "\n",
      "[[4167  353]\n",
      " [ 668  845]]\n",
      "             precision    recall  f1-score   support\n",
      "\n",
      "          0       0.86      0.92      0.89      4520\n",
      "          1       0.71      0.56      0.62      1513\n",
      "\n",
      "avg / total       0.82      0.83      0.82      6033\n",
      "\n",
      "[[4105  415]\n",
      " [ 610  903]]\n",
      "             precision    recall  f1-score   support\n",
      "\n",
      "          0       0.87      0.91      0.89      4520\n",
      "          1       0.69      0.60      0.64      1513\n",
      "\n",
      "avg / total       0.82      0.83      0.83      6033\n",
      "\n",
      "[[4155  365]\n",
      " [ 675  838]]\n",
      "             precision    recall  f1-score   support\n",
      "\n",
      "          0       0.86      0.92      0.89      4520\n",
      "          1       0.70      0.55      0.62      1513\n",
      "\n",
      "avg / total       0.82      0.83      0.82      6033\n",
      "\n",
      "[[4104  416]\n",
      " [ 624  889]]\n",
      "             precision    recall  f1-score   support\n",
      "\n",
      "          0       0.87      0.91      0.89      4520\n",
      "          1       0.68      0.59      0.63      1513\n",
      "\n",
      "avg / total       0.82      0.83      0.82      6033\n",
      "\n",
      "[[4156  364]\n",
      " [ 672  841]]\n",
      "             precision    recall  f1-score   support\n",
      "\n",
      "          0       0.86      0.92      0.89      4520\n",
      "          1       0.70      0.56      0.62      1513\n",
      "\n",
      "avg / total       0.82      0.83      0.82      6033\n",
      "\n",
      "[[4108  412]\n",
      " [ 627  886]]\n",
      "             precision    recall  f1-score   support\n",
      "\n",
      "          0       0.87      0.91      0.89      4520\n",
      "          1       0.68      0.59      0.63      1513\n",
      "\n",
      "avg / total       0.82      0.83      0.82      6033\n",
      "\n"
     ]
    }
   ],
   "source": [
    "error = []\n",
    "\n",
    "# Calculating error for K values between 1 and 20\n",
    "for i in range(1, 20):  \n",
    "    knn = KNeighborsClassifier(n_neighbors=i)\n",
    "    knn.fit(X_train, y_train)\n",
    "    prediction2 = knn.predict(X_test)\n",
    "    error.append(np.mean(prediction2 != y_test))\n",
    "    print(confusion_matrix(y_test, prediction2))  \n",
    "    print(classification_report(y_test, prediction2))  "
   ]
  },
  {
   "cell_type": "code",
   "execution_count": 109,
   "metadata": {},
   "outputs": [
    {
     "data": {
      "text/plain": [
       "Text(0,0.5,'Mean Error')"
      ]
     },
     "execution_count": 109,
     "metadata": {},
     "output_type": "execute_result"
    },
    {
     "data": {
      "image/png": "[encoded data removed]",
      "text/plain": [
       "<Figure size 864x432 with 1 Axes>"
      ]
     },
     "metadata": {},
     "output_type": "display_data"
    }
   ],
   "source": [
    "#plot for mean error\n",
    "plt.figure(figsize=(12, 6))  \n",
    "plt.plot(range(1, 20), error, color='red', linestyle='dashed', marker='o',  \n",
    "         markerfacecolor='blue', markersize=10)\n",
    "plt.title('Error Rate K Value')  \n",
    "plt.xlabel('K Value')  \n",
    "plt.ylabel('Mean Error')  "
   ]
  },
  {
   "cell_type": "markdown",
   "metadata": {},
   "source": [
    "# Logistic Regression"
   ]
  },
  {
   "cell_type": "code",
   "execution_count": 110,
   "metadata": {},
   "outputs": [],
   "source": [
    "#imports\n",
    "from keras.models import Sequential\n",
    "from keras.layers import Dense\n",
    "from keras.regularizers import L1L2\n",
    "from keras.utils import np_utils\n",
    "from keras.optimizers import SGD"
   ]
  },
  {
   "cell_type": "code",
   "execution_count": 111,
   "metadata": {},
   "outputs": [],
   "source": [
    "batchSize = 75\n",
    "outputs = 2"
   ]
  },
  {
   "cell_type": "code",
   "execution_count": 112,
   "metadata": {},
   "outputs": [],
   "source": [
    "y_train = np_utils.to_categorical(y_train, outputs)\n",
    "y_test = np_utils.to_categorical(y_test, outputs)"
   ]
  },
  {
   "cell_type": "code",
   "execution_count": 113,
   "metadata": {},
   "outputs": [
    {
     "data": {
      "text/plain": [
       "array([[1., 0.],\n",
       "       [1., 0.],\n",
       "       [1., 0.],\n",
       "       ...,\n",
       "       [1., 0.],\n",
       "       [0., 1.],\n",
       "       [1., 0.]])"
      ]
     },
     "execution_count": 113,
     "metadata": {},
     "output_type": "execute_result"
    }
   ],
   "source": [
    "y_train"
   ]
  },
  {
   "cell_type": "code",
   "execution_count": 114,
   "metadata": {},
   "outputs": [],
   "source": [
    "model1 = Sequential()"
   ]
  },
  {
   "cell_type": "code",
   "execution_count": 115,
   "metadata": {},
   "outputs": [],
   "source": [
    "model1.add(Dense(2, input_dim=(13), kernel_initializer='normal', activation='softmax'))"
   ]
  },
  {
   "cell_type": "code",
   "execution_count": 116,
   "metadata": {},
   "outputs": [],
   "source": [
    "model1.compile(optimizer=SGD(lr=0.05), loss='categorical_crossentropy', metrics=['accuracy'])"
   ]
  },
  {
   "cell_type": "code",
   "execution_count": 117,
   "metadata": {},
   "outputs": [
    {
     "name": "stdout",
     "output_type": "stream",
     "text": [
      "_________________________________________________________________\n",
      "Layer (type)                 Output Shape              Param #   \n",
      "=================================================================\n",
      "dense_14 (Dense)             (None, 2)                 28        \n",
      "=================================================================\n",
      "Total params: 28\n",
      "Trainable params: 28\n",
      "Non-trainable params: 0\n",
      "_________________________________________________________________\n"
     ]
    }
   ],
   "source": [
    "model1.summary()"
   ]
  },
  {
   "cell_type": "code",
   "execution_count": 118,
   "metadata": {},
   "outputs": [
    {
     "name": "stdout",
     "output_type": "stream",
     "text": [
      "Epoch 1/50\n",
      "24129/24129 [==============================] - 14s 597us/step - loss: 0.4293 - acc: 0.8097\n",
      "Epoch 2/50\n",
      "24129/24129 [==============================] - 13s 522us/step - loss: 0.3964 - acc: 0.8186\n",
      "Epoch 3/50\n",
      "24129/24129 [==============================] - 13s 557us/step - loss: 0.3936 - acc: 0.8203\n",
      "Epoch 4/50\n",
      "24129/24129 [==============================] - 12s 492us/step - loss: 0.3919 - acc: 0.8205\n",
      "Epoch 5/50\n",
      "24129/24129 [==============================] - 10s 398us/step - loss: 0.3915 - acc: 0.8213\n",
      "Epoch 6/50\n",
      "24129/24129 [==============================] - 14s 593us/step - loss: 0.3909 - acc: 0.8216\n",
      "Epoch 7/50\n",
      "24129/24129 [==============================] - 14s 592us/step - loss: 0.3907 - acc: 0.8211\n",
      "Epoch 8/50\n",
      "24129/24129 [==============================] - 13s 540us/step - loss: 0.3905 - acc: 0.8220\n",
      "Epoch 9/50\n",
      "24129/24129 [==============================] - 15s 614us/step - loss: 0.3904 - acc: 0.8210\n",
      "Epoch 10/50\n",
      "24129/24129 [==============================] - 12s 505us/step - loss: 0.3903 - acc: 0.8215\n",
      "Epoch 11/50\n",
      "24129/24129 [==============================] - 14s 574us/step - loss: 0.3904 - acc: 0.8220\n",
      "Epoch 12/50\n",
      "24129/24129 [==============================] - 12s 496us/step - loss: 0.3904 - acc: 0.8216\n",
      "Epoch 13/50\n",
      "24129/24129 [==============================] - 12s 513us/step - loss: 0.3902 - acc: 0.8217\n",
      "Epoch 14/50\n",
      "24129/24129 [==============================] - 15s 618us/step - loss: 0.3901 - acc: 0.8210\n",
      "Epoch 15/50\n",
      "24129/24129 [==============================] - 13s 534us/step - loss: 0.3902 - acc: 0.8217\n",
      "Epoch 16/50\n",
      "24129/24129 [==============================] - 13s 536us/step - loss: 0.3900 - acc: 0.8220\n",
      "Epoch 17/50\n",
      "24129/24129 [==============================] - 14s 575us/step - loss: 0.3901 - acc: 0.8211\n",
      "Epoch 18/50\n",
      "24129/24129 [==============================] - 12s 506us/step - loss: 0.3904 - acc: 0.8208\n",
      "Epoch 19/50\n",
      "24129/24129 [==============================] - 12s 500us/step - loss: 0.3902 - acc: 0.8207\n",
      "Epoch 20/50\n",
      "24129/24129 [==============================] - 12s 512us/step - loss: 0.3901 - acc: 0.8215\n",
      "Epoch 21/50\n",
      "24129/24129 [==============================] - 13s 543us/step - loss: 0.3901 - acc: 0.8210\n",
      "Epoch 22/50\n",
      "24129/24129 [==============================] - 13s 535us/step - loss: 0.3902 - acc: 0.8216\n",
      "Epoch 23/50\n",
      "24129/24129 [==============================] - 12s 515us/step - loss: 0.3903 - acc: 0.8215\n",
      "Epoch 24/50\n",
      "24129/24129 [==============================] - 15s 637us/step - loss: 0.3901 - acc: 0.8213\n",
      "Epoch 25/50\n",
      "24129/24129 [==============================] - 14s 577us/step - loss: 0.3903 - acc: 0.8218\n",
      "Epoch 26/50\n",
      "24129/24129 [==============================] - 13s 527us/step - loss: 0.3901 - acc: 0.8222\n",
      "Epoch 27/50\n",
      "24129/24129 [==============================] - 14s 569us/step - loss: 0.3903 - acc: 0.8210\n",
      "Epoch 28/50\n",
      "24129/24129 [==============================] - 10s 399us/step - loss: 0.3902 - acc: 0.8212\n",
      "Epoch 29/50\n",
      "24129/24129 [==============================] - 10s 406us/step - loss: 0.3902 - acc: 0.8209\n",
      "Epoch 30/50\n",
      "24129/24129 [==============================] - 10s 418us/step - loss: 0.3902 - acc: 0.8216\n",
      "Epoch 31/50\n",
      "24129/24129 [==============================] - 9s 375us/step - loss: 0.3903 - acc: 0.8225\n",
      "Epoch 32/50\n",
      "24129/24129 [==============================] - 10s 414us/step - loss: 0.3901 - acc: 0.8209\n",
      "Epoch 33/50\n",
      "24129/24129 [==============================] - 10s 402us/step - loss: 0.3902 - acc: 0.8210\n",
      "Epoch 34/50\n",
      "24129/24129 [==============================] - 10s 404us/step - loss: 0.3901 - acc: 0.8214\n",
      "Epoch 35/50\n",
      "24129/24129 [==============================] - 9s 385us/step - loss: 0.3902 - acc: 0.8208\n",
      "Epoch 36/50\n",
      "24129/24129 [==============================] - 10s 411us/step - loss: 0.3901 - acc: 0.8208\n",
      "Epoch 37/50\n",
      "24129/24129 [==============================] - 9s 366us/step - loss: 0.3902 - acc: 0.8206\n",
      "Epoch 38/50\n",
      "24129/24129 [==============================] - 9s 370us/step - loss: 0.3902 - acc: 0.8205\n",
      "Epoch 39/50\n",
      "24129/24129 [==============================] - 10s 422us/step - loss: 0.3903 - acc: 0.8208\n",
      "Epoch 40/50\n",
      "24129/24129 [==============================] - 9s 393us/step - loss: 0.3903 - acc: 0.8210\n",
      "Epoch 41/50\n",
      "24129/24129 [==============================] - 9s 385us/step - loss: 0.3901 - acc: 0.8222\n",
      "Epoch 42/50\n",
      "24129/24129 [==============================] - 10s 408us/step - loss: 0.3903 - acc: 0.8209\n",
      "Epoch 43/50\n",
      "24129/24129 [==============================] - 9s 390us/step - loss: 0.3902 - acc: 0.8212\n",
      "Epoch 44/50\n",
      "24129/24129 [==============================] - 10s 396us/step - loss: 0.3903 - acc: 0.82030s - loss: 0.3903 \n",
      "Epoch 45/50\n",
      "24129/24129 [==============================] - 10s 398us/step - loss: 0.3900 - acc: 0.82120s - loss: 0.3880 \n",
      "Epoch 46/50\n",
      "24129/24129 [==============================] - 9s 379us/step - loss: 0.3901 - acc: 0.8208 1s - loss: 0.\n",
      "Epoch 47/50\n",
      "24129/24129 [==============================] - 9s 381us/step - loss: 0.3902 - acc: 0.8210\n",
      "Epoch 48/50\n",
      "24129/24129 [==============================] - 10s 404us/step - loss: 0.3904 - acc: 0.8208\n",
      "Epoch 49/50\n",
      "24129/24129 [==============================] - 9s 383us/step - loss: 0.3903 - acc: 0.8217\n",
      "Epoch 50/50\n",
      "24129/24129 [==============================] - 9s 377us/step - loss: 0.3900 - acc: 0.8213\n"
     ]
    },
    {
     "data": {
      "text/plain": [
       "<keras.callbacks.History at 0x22aad1ca7f0>"
      ]
     },
     "execution_count": 118,
     "metadata": {},
     "output_type": "execute_result"
    }
   ],
   "source": [
    "model1.fit(X_train, y_train, batch_size = batchSize, epochs = 50)"
   ]
  },
  {
   "cell_type": "code",
   "execution_count": 119,
   "metadata": {},
   "outputs": [],
   "source": [
    "prediction3 = model1.predict(X_test)"
   ]
  },
  {
   "cell_type": "code",
   "execution_count": 120,
   "metadata": {},
   "outputs": [
    {
     "name": "stdout",
     "output_type": "stream",
     "text": [
      "6033/6033 [==============================] - 1s 193us/step\n"
     ]
    }
   ],
   "source": [
    "evalLR = model1.evaluate(X_test, y_test, verbose=1)"
   ]
  },
  {
   "cell_type": "code",
   "execution_count": 121,
   "metadata": {},
   "outputs": [
    {
     "name": "stdout",
     "output_type": "stream",
     "text": [
      "Test score: 0.3974982785799206\n"
     ]
    }
   ],
   "source": [
    "print('Test score:', evalLR[0])"
   ]
  },
  {
   "cell_type": "code",
   "execution_count": 122,
   "metadata": {},
   "outputs": [
    {
     "name": "stdout",
     "output_type": "stream",
     "text": [
      "Test accuracy: 0.8199900547287939\n"
     ]
    }
   ],
   "source": [
    "print('Test accuracy:', evalLR[1])"
   ]
  },
  {
   "cell_type": "markdown",
   "metadata": {},
   "source": [
    "# Neural Network"
   ]
  },
  {
   "cell_type": "code",
   "execution_count": 123,
   "metadata": {},
   "outputs": [],
   "source": [
    "model2 = Sequential()"
   ]
  },
  {
   "cell_type": "code",
   "execution_count": 124,
   "metadata": {},
   "outputs": [],
   "source": [
    "model2.add(Dense(20, input_dim=13, activation='relu'))\n",
    "model2.add(Dense(20, activation='relu'))\n",
    "model2.add(Dense(outputs, activation='softmax'))"
   ]
  },
  {
   "cell_type": "code",
   "execution_count": 125,
   "metadata": {},
   "outputs": [],
   "source": [
    "model2.compile(loss='binary_crossentropy', optimizer='adam', metrics=['accuracy'])"
   ]
  },
  {
   "cell_type": "code",
   "execution_count": 126,
   "metadata": {},
   "outputs": [
    {
     "name": "stdout",
     "output_type": "stream",
     "text": [
      "Epoch 1/25\n",
      "24129/24129 [==============================] - 86s 4ms/step - loss: 0.4347 - acc: 0.7907\n",
      "Epoch 2/25\n",
      "24129/24129 [==============================] - 91s 4ms/step - loss: 0.3475 - acc: 0.8356\n",
      "Epoch 3/25\n",
      "24129/24129 [==============================] - 97s 4ms/step - loss: 0.3344 - acc: 0.8419\n",
      "Epoch 4/25\n",
      "24129/24129 [==============================] - 100s 4ms/step - loss: 0.3304 - acc: 0.8448\n",
      "Epoch 5/25\n",
      "24129/24129 [==============================] - 101s 4ms/step - loss: 0.3277 - acc: 0.8469\n",
      "Epoch 6/25\n",
      "24129/24129 [==============================] - 106s 4ms/step - loss: 0.3264 - acc: 0.8471\n",
      "Epoch 7/25\n",
      "24129/24129 [==============================] - 111s 5ms/step - loss: 0.3247 - acc: 0.8489\n",
      "Epoch 8/25\n",
      "24129/24129 [==============================] - 106s 4ms/step - loss: 0.3243 - acc: 0.8484\n",
      "Epoch 9/25\n",
      "24129/24129 [==============================] - 107s 4ms/step - loss: 0.3233 - acc: 0.8495\n",
      "Epoch 10/25\n",
      "24129/24129 [==============================] - 114s 5ms/step - loss: 0.3224 - acc: 0.8498\n",
      "Epoch 11/25\n",
      "24129/24129 [==============================] - 120s 5ms/step - loss: 0.3219 - acc: 0.8487\n",
      "Epoch 12/25\n",
      "24129/24129 [==============================] - 108s 4ms/step - loss: 0.3212 - acc: 0.8510\n",
      "Epoch 13/25\n",
      "24129/24129 [==============================] - 101s 4ms/step - loss: 0.3207 - acc: 0.8500\n",
      "Epoch 14/25\n",
      "24129/24129 [==============================] - 100s 4ms/step - loss: 0.3203 - acc: 0.8499\n",
      "Epoch 15/25\n",
      "24129/24129 [==============================] - 104s 4ms/step - loss: 0.3195 - acc: 0.8514\n",
      "Epoch 16/25\n",
      "24129/24129 [==============================] - 101s 4ms/step - loss: 0.3190 - acc: 0.8502\n",
      "Epoch 17/25\n",
      "24129/24129 [==============================] - 98s 4ms/step - loss: 0.3187 - acc: 0.8505\n",
      "Epoch 18/25\n",
      "24129/24129 [==============================] - 104s 4ms/step - loss: 0.3178 - acc: 0.8511\n",
      "Epoch 19/25\n",
      "24129/24129 [==============================] - 96s 4ms/step - loss: 0.3171 - acc: 0.8513\n",
      "Epoch 20/25\n",
      "24129/24129 [==============================] - 98s 4ms/step - loss: 0.3173 - acc: 0.8509\n",
      "Epoch 21/25\n",
      "24129/24129 [==============================] - 96s 4ms/step - loss: 0.3168 - acc: 0.8509\n",
      "Epoch 22/25\n",
      "24129/24129 [==============================] - 104s 4ms/step - loss: 0.3166 - acc: 0.8515\n",
      "Epoch 23/25\n",
      "24129/24129 [==============================] - 106s 4ms/step - loss: 0.3159 - acc: 0.8514\n",
      "Epoch 24/25\n",
      "24129/24129 [==============================] - 106s 4ms/step - loss: 0.3150 - acc: 0.8522\n",
      "Epoch 25/25\n",
      "24129/24129 [==============================] - 108s 4ms/step - loss: 0.3152 - acc: 0.8514\n"
     ]
    },
    {
     "data": {
      "text/plain": [
       "<keras.callbacks.History at 0x22aadf44cf8>"
      ]
     },
     "execution_count": 126,
     "metadata": {},
     "output_type": "execute_result"
    }
   ],
   "source": [
    "model2.fit(X_train, y_train, batch_size = batchSize, epochs = 25)"
   ]
  },
  {
   "cell_type": "code",
   "execution_count": 127,
   "metadata": {},
   "outputs": [],
   "source": [
    "prediction4 = model2.predict(X_test)"
   ]
  },
  {
   "cell_type": "code",
   "execution_count": 128,
   "metadata": {},
   "outputs": [
    {
     "name": "stdout",
     "output_type": "stream",
     "text": [
      "6033/6033 [==============================] - 11s 2ms/step\n"
     ]
    }
   ],
   "source": [
    "evalNN = model2.evaluate(X_test, y_test, verbose=1)"
   ]
  },
  {
   "cell_type": "code",
   "execution_count": 129,
   "metadata": {},
   "outputs": [
    {
     "name": "stdout",
     "output_type": "stream",
     "text": [
      "Test score: 0.34298954416265853\n"
     ]
    }
   ],
   "source": [
    "print('Test score:', evalNN[0])"
   ]
  },
  {
   "cell_type": "code",
   "execution_count": 130,
   "metadata": {},
   "outputs": [
    {
     "name": "stdout",
     "output_type": "stream",
     "text": [
      "Test accuracy: 0.8390518813490492\n"
     ]
    }
   ],
   "source": [
    "print('Test accuracy:', evalNN[1])"
   ]
  },
  {
   "cell_type": "code",
   "execution_count": null,
   "metadata": {},
   "outputs": [],
   "source": []
  }
 ],
 "metadata": {
  "kernelspec": {
   "display_name": "Python 3",
   "language": "python",
   "name": "python3"
  },
  "language_info": {
   "codemirror_mode": {
    "name": "ipython",
    "version": 3
   },
   "file_extension": ".py",
   "mimetype": "text/x-python",
   "name": "python",
   "nbconvert_exporter": "python",
   "pygments_lexer": "ipython3",
   "version": "3.6.5"
  }
 },
 "nbformat": 4,
 "nbformat_minor": 2
}
